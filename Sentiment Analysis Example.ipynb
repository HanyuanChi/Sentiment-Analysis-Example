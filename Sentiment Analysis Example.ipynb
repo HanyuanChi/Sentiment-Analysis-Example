{
 "cells": [
  {
   "cell_type": "code",
   "execution_count": 1,
   "metadata": {
    "collapsed": true
   },
   "outputs": [],
   "source": [
    "#example of sentiment analysis\n",
    "import re #load regular expression library"
   ]
  },
  {
   "cell_type": "code",
   "execution_count": 6,
   "metadata": {},
   "outputs": [
    {
     "name": "stdout",
     "output_type": "stream",
     "text": [
      "There are 2508 words in Hess's management discussion text file\n"
     ]
    }
   ],
   "source": [
    "words = re.compile('\\w+') #regular expression that we are looking for: general words -- w+\n",
    "\n",
    "with open('LM_neg_words.txt','r') as f_open: #open txt file containing negative words dictionary\n",
    "    neg_words = f_open.read().strip().lower() \n",
    "    neg_list = words.findall(neg_words) #find all words in neg_words\n",
    "    neg_set = set(neg_list)\n",
    "\n",
    "with open('LM_pos_words.txt','r') as f_open: #open txt file containing positive words dictionary\n",
    "    pos_words = f_open.read().strip().lower()\n",
    "    pos_list = words.findall(pos_words) #find all words in pos_words\n",
    "    pos_set = set(pos_list)\n",
    "    \n",
    "with open('Hess_management.txt','r') as f_open: #open txt file containing the management discussion section of HESS corporation annual report\n",
    "    hess_mgt = f_open.read().strip().lower()\n",
    "    hess_mgt_word_list = words.findall(hess_mgt) #select all the words from hess_mgt, leaving numbers, punctuations aside\n",
    "\n",
    "print(\"There are {} words in Hess's management discussion text file\".format(len(hess_mgt_word_list)))"
   ]
  },
  {
   "cell_type": "code",
   "execution_count": 7,
   "metadata": {},
   "outputs": [
    {
     "name": "stdout",
     "output_type": "stream",
     "text": [
      "hess_mgt: (positive words – negative words)/total words = 0.84%\n",
      "hess_mgt: negative words/total words = 1.2%\n"
     ]
    }
   ],
   "source": [
    "hess_mgt_word_neg = [i for i in hess_mgt_word_list if i in neg_set] #find the overlap between two sets of words\n",
    "hess_mgt_word_pos = [i for i in hess_mgt_word_list if i in pos_set]\n",
    "\n",
    "sentiment1 = (len(hess_mgt_word_neg) - len(hess_mgt_word_pos))/float(len(hess_mgt_word_list)) #sentiment calculation\n",
    "sentiment2 = len(hess_mgt_word_neg)/float(len(hess_mgt_word_list))\n",
    "\n",
    "print ('hess_mgt: (positive words – negative words)/total words = {:.2}%'.format(sentiment1*100))\n",
    "print ('hess_mgt: negative words/total words = {:.2}%'.format(sentiment2*100))"
   ]
  },
  {
   "cell_type": "code",
   "execution_count": 8,
   "metadata": {},
   "outputs": [
    {
     "name": "stdout",
     "output_type": "stream",
     "text": [
      "There are 29 negator words in Hess's management discussion text file.\n"
     ]
    }
   ],
   "source": [
    "# find negation words in the management discussion set of words\n",
    "negator1 = re.compile('no')\n",
    "negator_list1 = negator1.findall(hess_mgt)\n",
    "negator2 = re.compile('not')\n",
    "negator_list2 = negator2.findall(hess_mgt)\n",
    "negator3 = re.compile('never')\n",
    "negator_list3 = negator3.findall(hess_mgt)\n",
    "\n",
    "print (\"There are {} negator words in Hess's management discussion text file.\".format(len(negator_list1)+len(negator_list2)+len(negator_list3)))"
   ]
  }
 ],
 "metadata": {
  "kernelspec": {
   "display_name": "Python 3",
   "language": "python",
   "name": "python3"
  },
  "language_info": {
   "codemirror_mode": {
    "name": "ipython",
    "version": 3
   },
   "file_extension": ".py",
   "mimetype": "text/x-python",
   "name": "python",
   "nbconvert_exporter": "python",
   "pygments_lexer": "ipython3",
   "version": "3.5.2"
  }
 },
 "nbformat": 4,
 "nbformat_minor": 2
}
